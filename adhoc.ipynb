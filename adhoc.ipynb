{
 "cells": [
  {
   "cell_type": "code",
   "execution_count": 1,
   "metadata": {},
   "outputs": [],
   "source": [
    "import pymysql\n",
    "import os\n",
    "from dotenv import load_dotenv\n",
    "\n",
    "# .envファイルを読み込む\n",
    "load_dotenv()\n",
    "\n",
    "# 環境変数からデータベース情報を取得\n",
    "MYSQL_SERVER = os.getenv(\"MYSQL_SERVER\")\n",
    "MYSQL_USER = os.getenv(\"MYSQL_USER\")\n",
    "MYSQL_PASSWORD = os.getenv(\"MYSQL_PASSWORD\")\n",
    "MYSQL_DB = os.getenv(\"MYSQL_DB\")\n",
    "\n"
   ]
  },
  {
   "cell_type": "code",
   "execution_count": 8,
   "metadata": {},
   "outputs": [],
   "source": [
    "def get_db_connection():\n",
    "    connection = pymysql.connect(host=MYSQL_SERVER,\n",
    "                                 user=MYSQL_USER,\n",
    "                                 password=MYSQL_PASSWORD,\n",
    "                                 db=MYSQL_DB)\n",
    "    return connection"
   ]
  },
  {
   "cell_type": "code",
   "execution_count": 11,
   "metadata": {},
   "outputs": [
    {
     "name": "stdout",
     "output_type": "stream",
     "text": [
      "{'PRD_CD': '4514603217612', 'PRD_NAME': '三ツ矢サイダー 缶250mlN*20本入り', 'PRD_PRICE': 111}\n"
     ]
    }
   ],
   "source": [
    "code = \"4514603217612\"\n",
    "connection = get_db_connection()\n",
    "try:\n",
    "    with connection.cursor() as cursor:\n",
    "        # 商品マスタから商品コードをもとに検索\n",
    "        sql = \"SELECT PRD_CD, PRD_NAME, PRD_PRICE FROM M_PRODUCT WHERE PRD_CD = %s\"\n",
    "        cursor.execute(sql, (code,))\n",
    "        result = cursor.fetchone()\n",
    "        if result:\n",
    "            print( {\n",
    "                \"PRD_CD\": result[0],\n",
    "                \"PRD_NAME\": result[1],\n",
    "                \"PRD_PRICE\": result[2]\n",
    "            } )\n",
    "        else:\n",
    "            print(\"a\")\n",
    "finally:\n",
    "    connection.close()"
   ]
  }
 ],
 "metadata": {
  "kernelspec": {
   "display_name": "base",
   "language": "python",
   "name": "python3"
  },
  "language_info": {
   "codemirror_mode": {
    "name": "ipython",
    "version": 3
   },
   "file_extension": ".py",
   "mimetype": "text/x-python",
   "name": "python",
   "nbconvert_exporter": "python",
   "pygments_lexer": "ipython3",
   "version": "3.9.12"
  },
  "orig_nbformat": 4
 },
 "nbformat": 4,
 "nbformat_minor": 2
}
